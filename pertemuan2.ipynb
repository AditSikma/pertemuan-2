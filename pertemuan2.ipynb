{
  "nbformat": 4,
  "nbformat_minor": 0,
  "metadata": {
    "colab": {
      "provenance": [],
      "authorship_tag": "ABX9TyMjc+vQJPXExaXnMIdx3zaP",
      "include_colab_link": true
    },
    "kernelspec": {
      "name": "python3",
      "display_name": "Python 3"
    },
    "language_info": {
      "name": "python"
    }
  },
  "cells": [
    {
      "cell_type": "markdown",
      "metadata": {
        "id": "view-in-github",
        "colab_type": "text"
      },
      "source": [
        "<a href=\"https://colab.research.google.com/github/AditSikma/pertemuan-2/blob/main/pertemuan2.ipynb\" target=\"_parent\"><img src=\"https://colab.research.google.com/assets/colab-badge.svg\" alt=\"Open In Colab\"/></a>"
      ]
    },
    {
      "cell_type": "code",
      "execution_count": null,
      "metadata": {
        "id": "1p61S3toILNQ"
      },
      "outputs": [],
      "source": []
    },
    {
      "cell_type": "markdown",
      "source": [
        "kelompok 6"
      ],
      "metadata": {
        "id": "4VCbKjvQIWDp"
      }
    },
    {
      "cell_type": "code",
      "source": [
        "nama_acak = [\"adit\",\"abay\",\"aulia\",\"sifa\",\"annisa\",\"haura\"]\n",
        "nama_acak.sort()\n",
        "print(nama_acak)"
      ],
      "metadata": {
        "colab": {
          "base_uri": "https://localhost:8080/"
        },
        "id": "kz45VPuKIhe5",
        "outputId": "3b40c6b8-a301-4c8b-9ae1-1ecdd7753a70"
      },
      "execution_count": 1,
      "outputs": [
        {
          "output_type": "stream",
          "name": "stdout",
          "text": [
            "['abay', 'adit', 'annisa', 'aulia', 'haura', 'sifa']\n"
          ]
        }
      ]
    }
  ]
}